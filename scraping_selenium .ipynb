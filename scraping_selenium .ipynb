{
 "cells": [
  {
   "cell_type": "code",
   "execution_count": 1,
   "id": "69ea12e1",
   "metadata": {},
   "outputs": [],
   "source": [
    "import requests\n",
    "from bs4 import BeautifulSoup\n",
    "\n",
    "# Import selenium module\n",
    "from selenium import webdriver\n",
    "from selenium.webdriver.common.by import By\n",
    "from selenium.webdriver.support.ui import WebDriverWait\n",
    "from selenium.webdriver.common.keys import Keys\n",
    "import time\n",
    "\n",
    "from selenium.webdriver.support import expected_conditions as EC\n",
    "from selenium.webdriver.support.ui import WebDriverWait as wait"
   ]
  },
  {
   "cell_type": "code",
   "execution_count": 2,
   "id": "8ff87521",
   "metadata": {},
   "outputs": [],
   "source": [
    "# headers = {'User-Agent': 'Mozilla/5.0 (Macintosh; Intel Mac OS X 10_13_6) AppleWebKit/537.36 (KHTML, like Gecko) \\\n",
    "#            Chrome/70.0.3538.77 Safari/537.36'} \n",
    "\n",
    "# html_text=requests.get('https://www.neighborhoodatlas.medicine.wisc.edu/download',headers=headers)\n",
    "# print(html_text)\n",
    "#soup=BeautifulSoup(html_text.text,\"html.parser\")"
   ]
  },
  {
   "cell_type": "code",
   "execution_count": 3,
   "id": "468d8f7b",
   "metadata": {},
   "outputs": [],
   "source": [
    "op = webdriver.ChromeOptions()\n",
    "prefs = {'download.default_directory' : 'C:\\\\Users\\\\M290268\\\\OneDrive - Mayo Clinic\\\\Python Notebooks\\\\GIS Spatial Data\\\\Data\\\\'}\n",
    "op.add_experimental_option('prefs', prefs)\n",
    "driver = webdriver.Chrome(options=op)\n",
    "driver.get('https://www.neighborhoodatlas.medicine.wisc.edu/login')\n",
    "driver.implicitly_wait(30)"
   ]
  },
  {
   "cell_type": "code",
   "execution_count": 4,
   "id": "62423e83",
   "metadata": {},
   "outputs": [],
   "source": [
    "#accept cookies\n",
    "accept_cookies=driver.find_element(By.ID,value=\"cookieconsent-dismiss\")\n",
    "time.sleep(2)\n",
    "accept_cookies.click()\n",
    "\n",
    "#Sending username and password\n",
    "username=driver.find_element(By.ID,value=\"login-email\")\n",
    "password=driver.find_element(By.ID,value=\"login-pass\")\n",
    "time.sleep(2)\n",
    "username.send_keys(\"sure.ravikumar@mayo.edu\")\n",
    "time.sleep(2)\n",
    "password.send_keys(\"08391a035808\")\n",
    "\n",
    "login=driver.find_element(By.CSS_SELECTOR,value=\"input[type=submit][value='Log In']\")\n",
    "time.sleep(2)\n",
    "login.click()\n",
    "download_option=driver.find_element(By.LINK_TEXT,value=\"Download Data\")\n",
    "time.sleep(2)\n",
    "download_option.click()"
   ]
  },
  {
   "cell_type": "code",
   "execution_count": 5,
   "id": "d52fcb03",
   "metadata": {},
   "outputs": [],
   "source": [
    "#Alabama,Alaska,Arizona,Arkansas,California,Colorado,Connecticut,Delaware,District of Columbia,Florida"
   ]
  },
  {
   "cell_type": "code",
   "execution_count": 6,
   "id": "96668fcd",
   "metadata": {},
   "outputs": [
    {
     "name": "stdout",
     "output_type": "stream",
     "text": [
      "Alabama\n",
      "Alaska\n",
      "Arizona\n",
      "Arkansas\n",
      "California\n"
     ]
    }
   ],
   "source": [
    "states_list=['Alabama','Alaska','Arizona','Arkansas','California']\n",
    "for state in states_list:\n",
    "    my_element_zipcode=driver.find_element(By.CSS_SELECTOR,value=\"input[type=radio][value='zipcode']\")\n",
    "    time.sleep(5)\n",
    "    my_element_zipcode.click()\n",
    "    my_element_state=driver.find_element(By.XPATH,value=\"//select[@name='state-name']/option[text()='\"+state+\"']\")\n",
    "    time.sleep(5)\n",
    "    my_element_state.click()\n",
    "    my_element_year=driver.find_element(By.CSS_SELECTOR,value=\"input[type=radio][value='21']\")\n",
    "    time.sleep(5)\n",
    "    my_element_year.click()\n",
    "    my_element_download=driver.find_element(By.CSS_SELECTOR,value=\"input[type=submit][value='Download Data']\")\n",
    "    time.sleep(5)\n",
    "    my_element_download.click()\n",
    "    print(state)\n",
    "    "
   ]
  },
  {
   "cell_type": "code",
   "execution_count": null,
   "id": "5650b5ee",
   "metadata": {},
   "outputs": [],
   "source": []
  }
 ],
 "metadata": {
  "kernelspec": {
   "display_name": "Python 3 (ipykernel)",
   "language": "python",
   "name": "python3"
  },
  "language_info": {
   "codemirror_mode": {
    "name": "ipython",
    "version": 3
   },
   "file_extension": ".py",
   "mimetype": "text/x-python",
   "name": "python",
   "nbconvert_exporter": "python",
   "pygments_lexer": "ipython3",
   "version": "3.9.13"
  }
 },
 "nbformat": 4,
 "nbformat_minor": 5
}
