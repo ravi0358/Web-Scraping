{
 "cells": [
  {
   "cell_type": "code",
   "execution_count": 1,
   "id": "096a2d58",
   "metadata": {},
   "outputs": [],
   "source": [
    "from datetime import date\n",
    "import holidays\n",
    "import pandas as pd\n",
    "pd.set_option('display.max_rows', None)\n",
    "import numpy as np\n",
    "from urllib.request import urlopen\n",
    "from bs4 import BeautifulSoup"
   ]
  },
  {
   "cell_type": "code",
   "execution_count": 2,
   "id": "34afe03d",
   "metadata": {},
   "outputs": [],
   "source": [
    "startyear=2024\n",
    "endyear=2030"
   ]
  },
  {
   "cell_type": "code",
   "execution_count": 3,
   "id": "1b7d809f",
   "metadata": {},
   "outputs": [],
   "source": [
    "data=[]\n",
    "countries=['BG','CO','IL','IN','JM','US','RU']\n",
    "for year in range(startyear,endyear+1):\n",
    "    for i in countries:\n",
    "        for j,k in holidays.country_holidays(country=i,years=year,language='en_US').items():\n",
    "            data.append([i,j,k])\n",
    "    \n",
    "\n",
    "df=pd.DataFrame(data)\n",
    "df.columns=['country','date','holiday']\n",
    "df['holiday']=np.where((df['country']=='RU') & (df['holiday']=='Christmas Day'),'Orthodox Christmas',df['holiday'])\n",
    "del df['country']\n",
    "df=df.drop_duplicates()\n",
    "df['holiday'] = df['holiday'].replace({'Pesach': 'Start of Passover',\n",
    "                'Maundy Thursday':'Holy Thursday','Easter':'Orthodox Pascha','Christmas Day':'Christmas'})\n",
    "\n",
    "\n",
    "holidays_list=[\"New Year's Day\", \"Orthodox Christmas\", \"Ash Wednesday\", \"Start of Passover\", \"Holy Thursday\",\n",
    "               \"Easter Sunday\",\"Eid ul-Fitr (estimated)\", \"Eid al-Adha (estimated)\", \"Easter\", \"Rosh Hashanah\", \n",
    "               \"Yom Kippur\", \"Diwali\", \"Christmas\"]\n",
    "\n",
    "df1=df[(df['holiday']!='New Year Holidays') & (~df['holiday'].str.contains('Day off'))]\n",
    "df2=df1[df1['holiday'].isin(holidays_list)].reset_index(drop=True)\n"
   ]
  },
  {
   "cell_type": "code",
   "execution_count": null,
   "id": "afdd043e",
   "metadata": {},
   "outputs": [],
   "source": []
  },
  {
   "cell_type": "code",
   "execution_count": 4,
   "id": "6e57d7b2",
   "metadata": {},
   "outputs": [],
   "source": [
    "data_scrap=[]\n",
    "for year in range(startyear,endyear+1):\n",
    "    url = \"https://www.timeanddate.com/holidays/india/\"+str(year)\n",
    "    page = urlopen(url)\n",
    "    soup = BeautifulSoup(page, \"html.parser\")\n",
    "    table = soup.find('table', attrs={'id':'holidays-table'})\n",
    "    for row in table.find('tbody').find_all('tr'):\n",
    "        columns = row.find_all('td')\n",
    "        dates=row.find_all('th')\n",
    "        if(columns != []):\n",
    "            day = columns[0].text.strip()\n",
    "            name = columns[1].text.strip()\n",
    "        if(dates != []):\n",
    "            date=dates[0].text.strip()\n",
    "            data_scrap.append([year,date,name])\n",
    "indian_holidays=pd.DataFrame(data_scrap)\n",
    "indian_holidays.columns=['year','date','holiday']\n",
    "indian_holidays['date']=pd.to_datetime(indian_holidays['date'],format=\"%b %d\")\n",
    "indian_holidays['date']=indian_holidays['date'].astype(str)\n",
    "indian_holidays['year']=indian_holidays['year'].astype(str)\n",
    "indian_holidays['date']=indian_holidays['date'].str.replace('1900','')\n",
    "indian_holidays['date']=indian_holidays['year']+indian_holidays['date']\n",
    "indian_holidays['holiday'] = indian_holidays['holiday'].replace({\n",
    "                'Guru Govind Singh Jayanti': \"Guru Gobind Singh's Birthday\",\n",
    "                'Ganesh Chaturthi/Vinayaka Chaturthi':'Ganesh Chaturthi',\n",
    "                'Guru Nanak Jayanti':\"Guru Nanak's Birthday\"})\n",
    "\n",
    "indian_holidays['holiday'] = indian_holidays['holiday'].str.replace('Ramadan Start','Ramadan Begins')\n",
    "\n",
    "\n",
    "holidays_list_india=[\"Guru Gobind Singh's Birthday\",'Ramadan Begins','Vaisakhi','Ganesh Chaturthi',\n",
    "           \"Guru Nanak's Birthday\",\"Good Friday\"]\n",
    "\n",
    "indian_holidays_1=indian_holidays[(indian_holidays['holiday'].isin(holidays_list_india)) | (indian_holidays['holiday'].str.contains('Ramadan')) ]\n",
    "del indian_holidays_1['year']\n",
    "\n",
    "\n",
    "\n",
    "        "
   ]
  },
  {
   "cell_type": "code",
   "execution_count": 5,
   "id": "eed3479c",
   "metadata": {},
   "outputs": [],
   "source": [
    "#Combined both\n",
    "df_holidays=pd.concat([indian_holidays_1,df2]).reset_index(drop=True)\n",
    "df_holidays=df_holidays.astype(str)\n",
    "df_holidays=df_holidays.sort_values('date').reset_index(drop=True)\n",
    "df_holidays=df_holidays[~((df_holidays['date'].str.contains('-12-26')) & (df_holidays['holiday']=='Christmas'))]"
   ]
  },
  {
   "cell_type": "code",
   "execution_count": 6,
   "id": "0de04e50",
   "metadata": {},
   "outputs": [],
   "source": [
    "adding_Vaisakhi={'date':['2026-04-14','2027-04-14','2028-04-13','2029-04-14','2030-04-14'],\n",
    "                 'holiday':['Vaisakhi','Vaisakhi','Vaisakhi','Vaisakhi','Vaisakhi']}\n",
    "adding_Vaisakhi=pd.DataFrame(adding_Vaisakhi)\n",
    "\n",
    "\n",
    "adding_Nanak={'date':['2026-11-24','2027-11-14','2028-11-02','2029-11-21','2030-11-10'],\n",
    "                 'holiday':[\"Guru Nanak's Birthday\",\"Guru Nanak's Birthday\",\"Guru Nanak's Birthday\",\n",
    "                           \"Guru Nanak's Birthday\",\"Guru Nanak's Birthday\"]}\n",
    "adding_Nanak=pd.DataFrame(adding_Nanak)\n",
    "\n",
    "\n",
    "df_holidays=pd.concat([df_holidays,adding_Vaisakhi,adding_Nanak])"
   ]
  },
  {
   "cell_type": "code",
   "execution_count": 7,
   "id": "b8be1ed1",
   "metadata": {},
   "outputs": [],
   "source": [
    "df_holidays.to_csv('Holy Days_2024_2030.csv',index=False)"
   ]
  },
  {
   "cell_type": "code",
   "execution_count": null,
   "id": "29c07550",
   "metadata": {},
   "outputs": [],
   "source": []
  }
 ],
 "metadata": {
  "kernelspec": {
   "display_name": "Python 3 (ipykernel)",
   "language": "python",
   "name": "python3"
  },
  "language_info": {
   "codemirror_mode": {
    "name": "ipython",
    "version": 3
   },
   "file_extension": ".py",
   "mimetype": "text/x-python",
   "name": "python",
   "nbconvert_exporter": "python",
   "pygments_lexer": "ipython3",
   "version": "3.9.13"
  }
 },
 "nbformat": 4,
 "nbformat_minor": 5
}
