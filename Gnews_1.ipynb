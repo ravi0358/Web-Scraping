{
 "cells": [
  {
   "cell_type": "code",
   "execution_count": 1,
   "id": "666abd77",
   "metadata": {},
   "outputs": [],
   "source": [
    "from datetime import date, timedelta\n",
    "import feedparser\n",
    "import json\n",
    "import time\n",
    "import pandas as pd"
   ]
  },
  {
   "cell_type": "code",
   "execution_count": 2,
   "id": "75fb66ac",
   "metadata": {},
   "outputs": [],
   "source": [
    "\n",
    "def google_news_data(query,start_date,end_date, skip_range,sleep): \n",
    "    \"\"\"\n",
    "    Google news RSS for scraping news by query and time window.\n",
    "  \n",
    "    RSS details: https://newscatcherapi.com/blog/google-news-rss-search-parameters-the-missing-documentaiton\n",
    "  \n",
    "    Parameters:\n",
    "    query (str): Keywords divided by OR \n",
    "    start_date (date): Time window start date\n",
    "    end_date (date): Time window end date\n",
    "    skip_range (int): Aggregating news over a number of days depending on the use case(More aggregation means less time to collect data)\n",
    "    sleep (int): Google news API is throttled. Avoid it by setting a sleep time between calls\n",
    "  \n",
    "    Returns:\n",
    "    dict: End date as the key and the array of news for that window as an array\n",
    "  \n",
    "    \"\"\"\n",
    "    delta = end_date - start_date   # returns timedelta\n",
    "    final_json = {}\n",
    "    range_counter = 1\n",
    "    # print(delta.days)\n",
    "    for i in range(delta.days + 1):\n",
    "        if range_counter == skip_range:\n",
    "            session_start_date = start_date + timedelta(days=i-skip_range) \n",
    "            session_end_date = start_date + timedelta(days=i) \n",
    "            print(session_end_date)\n",
    "            query = query.replace(\" \", \"%20\")  \n",
    "            query = query.replace(\"&\", \"and\")  \n",
    "            NewsFeed = feedparser.parse(\"https://news.google.com/rss/search?q=\"+query+\"+before:\"+session_end_date.strftime(\"%Y-%m-%d\")+\"+after:\"+session_start_date.strftime(\"%Y-%m-%d\")+\"&ceid=US:en&hl=en-US&gl=US\")\n",
    "            time.sleep(sleep)\n",
    "            final_json[session_end_date.strftime(\"%Y-%m-%d\")] = NewsFeed.entries\n",
    "            range_counter = 1 \n",
    "        else:\n",
    "            range_counter += 1\n",
    "            continue\n",
    "    out_file = open('News_'+query.replace(\" \",\"_\").replace(\"%20\",\" \")+\".json\", \"w\") \n",
    "    json.dump(final_json, out_file, indent = 6)         \n",
    "    out_file.close() \n",
    "    return final_json\n"
   ]
  },
  {
   "cell_type": "code",
   "execution_count": null,
   "id": "022348f9",
   "metadata": {},
   "outputs": [
    {
     "name": "stdout",
     "output_type": "stream",
     "text": [
      "2021-08-01\n",
      "2021-08-02\n",
      "2021-08-03\n"
     ]
    }
   ],
   "source": [
    "# skip_range is to aggregate news scraping by several days, sleep is the time to wait to call the api to avoid throttling\n",
    "output = google_news_data(query = \"USD OR EUR OR YEN\",start_date = date(2021, 8, 1),end_date = date(2022, 1, 1), skip_range=1,sleep=60)"
   ]
  },
  {
   "cell_type": "code",
   "execution_count": null,
   "id": "53d5be1e",
   "metadata": {},
   "outputs": [],
   "source": [
    "output"
   ]
  },
  {
   "cell_type": "code",
   "execution_count": null,
   "id": "8806dab8",
   "metadata": {},
   "outputs": [],
   "source": []
  },
  {
   "cell_type": "code",
   "execution_count": null,
   "id": "2af48f11",
   "metadata": {},
   "outputs": [],
   "source": [
    "f = open('News_USD OR EUR OR YEN.json')\n",
    "  \n",
    "# returns JSON object as \n",
    "# a dictionary\n",
    "data = json.load(f)\n",
    "  "
   ]
  },
  {
   "cell_type": "code",
   "execution_count": null,
   "id": "757c30a3",
   "metadata": {},
   "outputs": [],
   "source": [
    "data['2022-01-01']"
   ]
  },
  {
   "cell_type": "code",
   "execution_count": null,
   "id": "471710d8",
   "metadata": {},
   "outputs": [],
   "source": [
    "collate=[]\n",
    "for i in data.keys():\n",
    "    for item in data[i]:\n",
    "        title=pd.Series(item['title'])\n",
    "        date=pd.Series(item['published'])\n",
    "        frame = { 'title': title, 'date': date }\n",
    "#Creating DataFrame by passing Dictionary\n",
    "        df = pd.DataFrame(frame)\n",
    "        collate.append(df)"
   ]
  },
  {
   "cell_type": "code",
   "execution_count": null,
   "id": "7b920500",
   "metadata": {},
   "outputs": [],
   "source": [
    "pd.concat(collate) "
   ]
  },
  {
   "cell_type": "code",
   "execution_count": null,
   "id": "84b19851",
   "metadata": {},
   "outputs": [],
   "source": []
  }
 ],
 "metadata": {
  "kernelspec": {
   "display_name": "Python 3 (ipykernel)",
   "language": "python",
   "name": "python3"
  },
  "language_info": {
   "codemirror_mode": {
    "name": "ipython",
    "version": 3
   },
   "file_extension": ".py",
   "mimetype": "text/x-python",
   "name": "python",
   "nbconvert_exporter": "python",
   "pygments_lexer": "ipython3",
   "version": "3.9.12"
  }
 },
 "nbformat": 4,
 "nbformat_minor": 5
}
