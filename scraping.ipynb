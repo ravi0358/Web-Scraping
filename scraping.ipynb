{
 "cells": [
  {
   "cell_type": "code",
   "execution_count": 1,
   "id": "69ea12e1",
   "metadata": {},
   "outputs": [],
   "source": [
    "import requests\n",
    "from bs4 import BeautifulSoup\n",
    "\n",
    "# Import selenium module\n",
    "from selenium import webdriver\n",
    "from selenium.webdriver.common.by import By\n",
    "from selenium.webdriver.support.ui import WebDriverWait\n",
    "from selenium.webdriver.common.keys import Keys\n",
    "import time"
   ]
  },
  {
   "cell_type": "code",
   "execution_count": 2,
   "id": "8ff87521",
   "metadata": {},
   "outputs": [],
   "source": [
    "headers = {'User-Agent': 'Mozilla/5.0 (Macintosh; Intel Mac OS X 10_13_6) AppleWebKit/537.36 (KHTML, like Gecko) \\\n",
    "           Chrome/70.0.3538.77 Safari/537.36'} \n",
    "\n",
    "html_text=requests.get('https://www.neighborhoodatlas.medicine.wisc.edu/download',headers=headers)"
   ]
  },
  {
   "cell_type": "code",
   "execution_count": 3,
   "id": "e8416422",
   "metadata": {},
   "outputs": [
    {
     "name": "stdout",
     "output_type": "stream",
     "text": [
      "<Response [200]>\n"
     ]
    }
   ],
   "source": [
    "print(html_text)"
   ]
  },
  {
   "cell_type": "code",
   "execution_count": 4,
   "id": "ad452c7b",
   "metadata": {},
   "outputs": [],
   "source": [
    "soup=BeautifulSoup(html_text.text,\"html.parser\")"
   ]
  },
  {
   "cell_type": "code",
   "execution_count": 5,
   "id": "468d8f7b",
   "metadata": {},
   "outputs": [],
   "source": [
    "op = webdriver.ChromeOptions()\n",
    "prefs = {'download.default_directory' : 'C:\\\\Users\\\\M290268\\\\OneDrive - Mayo Clinic\\\\Python Notebooks\\\\GIS Spatial Data\\\\Data\\\\'}\n",
    "op.add_experimental_option('prefs', prefs)\n",
    "driver = webdriver.Chrome(options=op)\n",
    "driver.get('https://www.neighborhoodatlas.medicine.wisc.edu/download')\n",
    "driver.implicitly_wait(30)"
   ]
  },
  {
   "cell_type": "code",
   "execution_count": null,
   "id": "93e5c6a8",
   "metadata": {},
   "outputs": [],
   "source": [
    "# # Using chrome driver\n",
    "# driver = webdriver.Chrome()\n",
    "# driver.get('https://www.neighborhoodatlas.medicine.wisc.edu/download')\n",
    "# driver.implicitly_wait(30)\n"
   ]
  },
  {
   "cell_type": "code",
   "execution_count": 53,
   "id": "435ed2c5",
   "metadata": {},
   "outputs": [],
   "source": [
    "my_element_zipcode=driver.find_element(By.CSS_SELECTOR,value=\"input[type=radio][value='zipcode']\")\n",
    "my_element_zipcode.click()\n",
    "state='Arizona'\n",
    "my_element_state=driver.find_element(By.XPATH,value=\"//select[@name='state-name']/option[text()='\"+state+\"']\")\n",
    "my_element_state.click()\n",
    "my_element_year=driver.find_element(By.CSS_SELECTOR,value=\"input[type=radio][value='21']\")\n",
    "my_element_year.click()\n",
    "my_element_download=driver.find_element(By.CSS_SELECTOR,value=\"input[type=submit][value='Download Data']\")\n",
    "my_element_download.click()"
   ]
  },
  {
   "cell_type": "code",
   "execution_count": 16,
   "id": "d70f7242",
   "metadata": {},
   "outputs": [],
   "source": []
  },
  {
   "cell_type": "code",
   "execution_count": 17,
   "id": "df44ac59",
   "metadata": {},
   "outputs": [],
   "source": []
  },
  {
   "cell_type": "code",
   "execution_count": null,
   "id": "d52fcb03",
   "metadata": {},
   "outputs": [],
   "source": [
    "#Alabama,Alaska,Arizona,Arkansas,California,Colorado,Connecticut,Delaware,District of Columbia,Florida"
   ]
  },
  {
   "cell_type": "code",
   "execution_count": 52,
   "id": "96668fcd",
   "metadata": {},
   "outputs": [
    {
     "name": "stdout",
     "output_type": "stream",
     "text": [
      "Alabama\n",
      "Alaska\n",
      "Arizona\n",
      "Arkansas\n",
      "California\n"
     ]
    }
   ],
   "source": [
    "states_list=['Alabama','Alaska','Arizona','Arkansas','California']\n",
    "for state in states_list:\n",
    "    my_element_zipcode=driver.find_element(By.CSS_SELECTOR,value=\"input[type=radio][value='zipcode']\")\n",
    "    my_element_zipcode.click()\n",
    "    my_element_state=driver.find_element(By.XPATH,value=\"//select[@name='state-name']/option[text()='\"+state+\"']\")\n",
    "    my_element_state.click()\n",
    "    my_element_year=driver.find_element(By.CSS_SELECTOR,value=\"input[type=radio][value='21']\")\n",
    "    my_element_year.click()\n",
    "    my_element_download=driver.find_element(By.CSS_SELECTOR,value=\"input[type=submit][value='Download Data']\")\n",
    "    my_element_download.click()\n",
    "    print(state)\n",
    "    "
   ]
  },
  {
   "cell_type": "code",
   "execution_count": null,
   "id": "5650b5ee",
   "metadata": {},
   "outputs": [],
   "source": []
  }
 ],
 "metadata": {
  "kernelspec": {
   "display_name": "Python 3 (ipykernel)",
   "language": "python",
   "name": "python3"
  },
  "language_info": {
   "codemirror_mode": {
    "name": "ipython",
    "version": 3
   },
   "file_extension": ".py",
   "mimetype": "text/x-python",
   "name": "python",
   "nbconvert_exporter": "python",
   "pygments_lexer": "ipython3",
   "version": "3.9.13"
  }
 },
 "nbformat": 4,
 "nbformat_minor": 5
}
